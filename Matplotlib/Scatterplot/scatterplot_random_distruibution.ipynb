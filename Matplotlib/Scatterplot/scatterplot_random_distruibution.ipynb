{
 "cells": [
  {
   "cell_type": "markdown",
   "source": [
    "@Author: Naziya\n",
    "\n",
    "@Date: 2021-07-30\n",
    "\n",
    "@Last Modified by: Naziya\n",
    "\n",
    "@Last Modified : 2021-07-30\n",
    "\n",
    "@Title : Program Aim is to draw a scatter graph taking a random distribution in X and Y and\n",
    "         plotted against each other."
   ],
   "metadata": {}
  },
  {
   "cell_type": "code",
   "execution_count": 5,
   "source": [
    "import matplotlib.pyplot as plt\n",
    "from LoggerFormat import logger\n",
    "import numpy as np\n",
    "\n",
    "try:\n",
    "    x = np.random.randint(0,100,20)\n",
    "    y = np.random.randint(0,100,20)\n",
    "    plt.scatter(x, y, color= 'r')\n",
    "    plt.xlabel(\"X\")\n",
    "    plt.ylabel(\"Y\")\n",
    "\n",
    "except Exception as err:\n",
    "    logger.error(err)\n"
   ],
   "outputs": [
    {
     "output_type": "display_data",
     "data": {
      "text/plain": [
       "<Figure size 432x288 with 1 Axes>"
      ],
      "image/png": "[encoded data removed]"
     },
     "metadata": {
      "needs_background": "light"
     }
    }
   ],
   "metadata": {}
  }
 ],
 "metadata": {
  "orig_nbformat": 4,
  "language_info": {
   "name": "python",
   "version": "3.8.10",
   "mimetype": "text/x-python",
   "codemirror_mode": {
    "name": "ipython",
    "version": 3
   },
   "pygments_lexer": "ipython3",
   "nbconvert_exporter": "python",
   "file_extension": ".py"
  },
  "kernelspec": {
   "name": "python3",
   "display_name": "Python 3.8.10 64-bit"
  },
  "interpreter": {
   "hash": "916dbcbb3f70747c44a77c7bcd40155683ae19c65e1c03b4aa3499c5328201f1"
  }
 },
 "nbformat": 4,
 "nbformat_minor": 2
}