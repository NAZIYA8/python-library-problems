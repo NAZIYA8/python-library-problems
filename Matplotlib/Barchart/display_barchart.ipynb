{
 "cells": [
  {
   "cell_type": "markdown",
   "source": [
    "@Author: Naziya\n",
    "\n",
    "@Date: 2021-07-29\n",
    "\n",
    "@Last Modified by: Naziya\n",
    "\n",
    "@Last Modified : 2021-07-29\n",
    "\n",
    "@Title : Program Aim is to display a bar chart of the popularity of programming\n",
    "         Languages."
   ],
   "metadata": {}
  },
  {
   "cell_type": "code",
   "execution_count": 1,
   "source": [
    "import matplotlib.pyplot as plt\n",
    "from LoggerFormat import logger\n",
    "\n",
    "try:\n",
    "    lang = ['Java', 'Python','PHP', 'JavaScript', 'C#', 'C++']\n",
    "    popularity=[22.2, 17.6, 8.8, 8, 7.7, 6.7]\n",
    "    plt.bar(lang,popularity)\n",
    "    plt.xlabel(\"Programming languages\")\n",
    "    plt.ylabel(\"Popularity\")\n",
    "    plt.title(\"Popularity of programming languages\")\n",
    "    plt.show()\n",
    "\n",
    "except Exception as err:\n",
    "    logger.error(err)"
   ],
   "outputs": [],
   "metadata": {}
  }
 ],
 "metadata": {
  "orig_nbformat": 4,
  "language_info": {
   "name": "python",
   "version": "3.8.10",
   "mimetype": "text/x-python",
   "codemirror_mode": {
    "name": "ipython",
    "version": 3
   },
   "pygments_lexer": "ipython3",
   "nbconvert_exporter": "python",
   "file_extension": ".py"
  },
  "kernelspec": {
   "name": "python3",
   "display_name": "Python 3.8.10 64-bit"
  },
  "interpreter": {
   "hash": "916dbcbb3f70747c44a77c7bcd40155683ae19c65e1c03b4aa3499c5328201f1"
  }
 },
 "nbformat": 4,
 "nbformat_minor": 2
}