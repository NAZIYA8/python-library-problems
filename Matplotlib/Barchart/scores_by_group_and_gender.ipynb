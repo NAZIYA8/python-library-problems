{
 "cells": [
  {
   "cell_type": "markdown",
   "source": [
    "@Author: Naziya\n",
    "\n",
    "@Date: 2021-07-29\n",
    "\n",
    "@Last Modified by: Naziya\n",
    "\n",
    "@Last Modified : 2021-07-29\n",
    "\n",
    "@Title : Program Aim is to create bar plot of scores by group and gender. Use multiple X\n",
    "         values on the same chart for men and women."
   ],
   "metadata": {}
  },
  {
   "cell_type": "code",
   "execution_count": 8,
   "source": [
    "import matplotlib.pyplot as plt\n",
    "from LoggerFormat import logger\n",
    "import numpy as np\n",
    "\n",
    "try:\n",
    "    groups = ['A','B','C','D','E']\n",
    "    men_means = [22, 30, 35, 35, 26]\n",
    "    women_means = [25, 32, 30, 35, 29]\n",
    "    index = np.arange(len(groups))\n",
    "\n",
    "    plt.bar(index+0.2,men_means,width=0.4,label = 'Men')\n",
    "    plt.bar(index-0.2,women_means,width=0.4,label = 'Women')\n",
    "\n",
    "    plt.xticks(index,groups)\n",
    "    plt.xlabel(\"person\")\n",
    "    plt.ylabel(\"scores\")\n",
    "    plt.title(\"Scores by person\")\n",
    "    plt.legend()\n",
    "    plt.tight_layout()\n",
    "\n",
    "except Exception as err:\n",
    "    logger.error(err)"
   ],
   "outputs": [
    {
     "output_type": "display_data",
     "data": {
      "text/plain": [
       "<Figure size 432x288 with 1 Axes>"
      ],
      "image/png": "[encoded data removed]"
     },
     "metadata": {
      "needs_background": "light"
     }
    }
   ],
   "metadata": {}
  }
 ],
 "metadata": {
  "orig_nbformat": 4,
  "language_info": {
   "name": "python",
   "version": "3.8.10",
   "mimetype": "text/x-python",
   "codemirror_mode": {
    "name": "ipython",
    "version": 3
   },
   "pygments_lexer": "ipython3",
   "nbconvert_exporter": "python",
   "file_extension": ".py"
  },
  "kernelspec": {
   "name": "python3",
   "display_name": "Python 3.8.10 64-bit"
  },
  "interpreter": {
   "hash": "916dbcbb3f70747c44a77c7bcd40155683ae19c65e1c03b4aa3499c5328201f1"
  }
 },
 "nbformat": 4,
 "nbformat_minor": 2
}