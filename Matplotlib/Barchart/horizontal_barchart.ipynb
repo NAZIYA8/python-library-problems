{
 "cells": [
  {
   "cell_type": "markdown",
   "source": [
    "@Author: Naziya\n",
    "\n",
    "@Date: 2021-07-29\n",
    "\n",
    "@Last Modified by: Naziya\n",
    "\n",
    "@Last Modified : 2021-07-29\n",
    "\n",
    "@Title : Program Aim is to display a horizontal bar chart of the popularity of programming\n",
    "         Languages."
   ],
   "metadata": {}
  },
  {
   "cell_type": "code",
   "execution_count": null,
   "source": [
    "import matplotlib.pyplot as plt\n",
    "from LoggerFormat import logger\n",
    "\n",
    "try:\n",
    "    lang = ['Java', 'Python','PHP', 'JavaScript', 'C#', 'C++']\n",
    "    popularity=[22.2, 17.6, 8.8, 8, 7.7, 6.7]\n",
    "    plt.barh(lang,popularity)\n",
    "    plt.xlabel(\"Programming languages\")\n",
    "    plt.ylabel(\"Popularity\")\n",
    "    plt.title(\"Popularity of programming languages\")\n",
    "    plt.show()\n",
    "\n",
    "except Exception as err:\n",
    "    logger.error(err)"
   ],
   "outputs": [],
   "metadata": {}
  }
 ],
 "metadata": {
  "orig_nbformat": 4,
  "language_info": {
   "name": "python"
  }
 },
 "nbformat": 4,
 "nbformat_minor": 2
}