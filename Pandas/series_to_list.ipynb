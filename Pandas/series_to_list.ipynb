{
 "cells": [
  {
   "cell_type": "markdown",
   "source": [
    "@Author: Naziya\n",
    "\n",
    "@Date: 2021-07-227\n",
    "\n",
    "@Last Modified by: Naziya\n",
    "\n",
    "@Last Modified : 2021-07-27\n",
    "\n",
    "@Title : Program Aim is to convert a Panda module Series to Python list and it's type."
   ],
   "metadata": {}
  },
  {
   "cell_type": "code",
   "execution_count": 1,
   "source": [
    "import pandas as pd\n",
    "import numpy as np\n",
    "from LoggerFormat import logger\n",
    "\n",
    "def series_to_list():\n",
    "    \"\"\"\n",
    "    Description: This function is used to convert a Panda module Series to Python list and it's type.\n",
    "    \"\"\"\n",
    "    try:\n",
    "        data = pd.Series([10,20,30,40,50])\n",
    "        logger.info(\"Pandas Series: \")\n",
    "        logger.info(data)\n",
    "        myList = data.tolist()\n",
    "        logger.info(\"series to list: \")\n",
    "        logger.info(myList)\n",
    "\n",
    "    except Exception as err:\n",
    "        logger.error(err)\n",
    "\n",
    "if __name__== \"__main__\":\n",
    "    series_to_list()\n"
   ],
   "outputs": [],
   "metadata": {}
  }
 ],
 "metadata": {
  "orig_nbformat": 4,
  "language_info": {
   "name": "python",
   "version": "3.8.10",
   "mimetype": "text/x-python",
   "codemirror_mode": {
    "name": "ipython",
    "version": 3
   },
   "pygments_lexer": "ipython3",
   "nbconvert_exporter": "python",
   "file_extension": ".py"
  },
  "kernelspec": {
   "name": "python3",
   "display_name": "Python 3.8.10 64-bit"
  },
  "interpreter": {
   "hash": "916dbcbb3f70747c44a77c7bcd40155683ae19c65e1c03b4aa3499c5328201f1"
  }
 },
 "nbformat": 4,
 "nbformat_minor": 2
}