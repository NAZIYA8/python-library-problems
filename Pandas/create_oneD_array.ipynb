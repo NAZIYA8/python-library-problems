{
 "cells": [
  {
   "cell_type": "markdown",
   "source": [
    "@Author: Naziya\n",
    "\n",
    "@Date: 2021-07-227\n",
    "\n",
    "@Last Modified by: Naziya\n",
    "\n",
    "@Last Modified : 2021-07-27\n",
    "\n",
    "@Title : Program Aim is to create and display a one-dimensional array-like object\n",
    "         containing an array of data"
   ],
   "metadata": {}
  },
  {
   "cell_type": "code",
   "execution_count": 2,
   "source": [
    "import pandas as pd\n",
    "import numpy as np\n",
    "from LoggerFormat import logger\n",
    "\n",
    "def create_oneD_array():\n",
    "    \"\"\"\n",
    "    Description: This function is used to create and display a one-dimensional array-like object\n",
    "                 containing an array of data\n",
    "    \"\"\"\n",
    "    try:\n",
    "        myArray = np.array([10,20,30,40,50])\n",
    "        data = pd.Series(myArray)\n",
    "        logger.info(data)\n",
    "    except Exception as err:\n",
    "        logger.error(err)\n",
    "\n",
    "if __name__== \"__main__\":\n",
    "    create_oneD_array()\n"
   ],
   "outputs": [],
   "metadata": {}
  }
 ],
 "metadata": {
  "orig_nbformat": 4,
  "language_info": {
   "name": "python",
   "version": "3.8.10",
   "mimetype": "text/x-python",
   "codemirror_mode": {
    "name": "ipython",
    "version": 3
   },
   "pygments_lexer": "ipython3",
   "nbconvert_exporter": "python",
   "file_extension": ".py"
  },
  "kernelspec": {
   "name": "python3",
   "display_name": "Python 3.8.10 64-bit"
  },
  "interpreter": {
   "hash": "916dbcbb3f70747c44a77c7bcd40155683ae19c65e1c03b4aa3499c5328201f1"
  }
 },
 "nbformat": 4,
 "nbformat_minor": 2
}