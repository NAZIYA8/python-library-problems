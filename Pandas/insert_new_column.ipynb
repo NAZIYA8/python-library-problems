{
 "cells": [
  {
   "cell_type": "markdown",
   "source": [
    "@Author: Naziya\n",
    "\n",
    "@Date: 2021-07-27\n",
    "\n",
    "@Last Modified by: Naziya\n",
    "\n",
    "@Last Modified : 2021-07-27\n",
    "\n",
    "@Title : Program Aim is to insert new column to dataframe"
   ],
   "metadata": {}
  },
  {
   "cell_type": "code",
   "execution_count": 1,
   "source": [
    "import numpy as np\n",
    "from LoggerFormat import logger\n",
    "import pandas as pd\n",
    "\n",
    "def insert_new_column():\n",
    "    \"\"\"\n",
    "    Description: This function is used to insert new column to dataframe.\n",
    "    \"\"\"\n",
    "    try:\n",
    "        exam_data = {'name': ['Anastasia', 'Dima', 'Katherine', 'James', 'Emily', 'Michael',\n",
    "                    'Matthew', 'Laura', 'Kevin', 'Jonas'],\n",
    "        'score': [12.5, 9, 16.5, np.nan, 9, 20, 14.5, np.nan, 8, 19],\n",
    "        'attempts': [1, 3, 2, 3, 2, 3, 1, 1, 2, 1],\n",
    "        'qualify': ['yes', 'no', 'yes', 'no', 'no', 'yes', 'yes', 'no', 'no', 'yes']}\n",
    "        labels = ['a', 'b', 'c', 'd', 'e', 'f', 'g', 'h', 'i', 'j']\n",
    "\n",
    "        data_frame = pd.DataFrame(exam_data,index=labels)\n",
    "        logger.info(\"Original Dataframe \")\n",
    "        logger.info(data_frame)\n",
    "\n",
    "        logger.info(\"Inserting new column: \")\n",
    "        data = ['91','84','54','68','95','65','78','94','52','48']\n",
    "        data_frame[\"attendance\"] = data\n",
    "        logger.info(data_frame)\n",
    "\n",
    "\n",
    "    except Exception as err:\n",
    "        logger.error(err)\n",
    "        \n",
    "if __name__== \"__main__\":\n",
    "    insert_new_column()"
   ],
   "outputs": [],
   "metadata": {}
  }
 ],
 "metadata": {
  "orig_nbformat": 4,
  "language_info": {
   "name": "python",
   "version": "3.8.10",
   "mimetype": "text/x-python",
   "codemirror_mode": {
    "name": "ipython",
    "version": 3
   },
   "pygments_lexer": "ipython3",
   "nbconvert_exporter": "python",
   "file_extension": ".py"
  },
  "kernelspec": {
   "name": "python3",
   "display_name": "Python 3.8.10 64-bit"
  },
  "interpreter": {
   "hash": "916dbcbb3f70747c44a77c7bcd40155683ae19c65e1c03b4aa3499c5328201f1"
  }
 },
 "nbformat": 4,
 "nbformat_minor": 2
}