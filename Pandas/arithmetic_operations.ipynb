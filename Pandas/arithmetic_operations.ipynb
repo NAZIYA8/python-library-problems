{
 "cells": [
  {
   "cell_type": "markdown",
   "source": [
    "@Author: Naziya\n",
    "\n",
    "@Date: 2021-07-227\n",
    "\n",
    "@Last Modified by: Naziya\n",
    "\n",
    "@Last Modified : 2021-07-27\n",
    "\n",
    "@Title : Program Aim is to add, subtract, multiple and divide two Pandas Series."
   ],
   "metadata": {}
  },
  {
   "cell_type": "code",
   "execution_count": 1,
   "source": [
    "import pandas as pd\n",
    "import numpy as np\n",
    "from LoggerFormat import logger\n",
    "\n",
    "def arithmetic_operations():\n",
    "    \"\"\"\n",
    "    Description: This function is used to add, subtract, multiple and divide two Pandas Series.\n",
    "    \"\"\"\n",
    "    try:\n",
    "        data1 = pd.Series([2, 4, 6, 8, 10])\n",
    "        logger.info(\"Pandas Series1: \")\n",
    "        logger.info(data1)\n",
    "        data2 = pd.Series([1, 3, 5, 7, 9])\n",
    "        logger.info(\"Pandas Series2: \")\n",
    "        logger.info(data2)\n",
    "\n",
    "        logger.info(\"Addition: \")\n",
    "        add_data = data1 + data2\n",
    "        logger.info(add_data)\n",
    "\n",
    "        logger.info(\"subtraction: \")\n",
    "        subtract_data = data1 - data2\n",
    "        logger.info(subtract_data)\n",
    "\n",
    "        logger.info(\"multiplication: \")\n",
    "        multiplication_data = data1 * data2\n",
    "        logger.info(multiplication_data)\n",
    "\n",
    "        logger.info(\"Division: \")\n",
    "        division_data = data1 / data2\n",
    "        logger.info(division_data)\n",
    "    except Exception as err:\n",
    "        logger.error(err)\n",
    "\n",
    "if __name__== \"__main__\":\n",
    "    arithmetic_operations()"
   ],
   "outputs": [],
   "metadata": {}
  }
 ],
 "metadata": {
  "orig_nbformat": 4,
  "language_info": {
   "name": "python",
   "version": "3.8.10",
   "mimetype": "text/x-python",
   "codemirror_mode": {
    "name": "ipython",
    "version": 3
   },
   "pygments_lexer": "ipython3",
   "nbconvert_exporter": "python",
   "file_extension": ".py"
  },
  "kernelspec": {
   "name": "python3",
   "display_name": "Python 3.8.10 64-bit"
  },
  "interpreter": {
   "hash": "916dbcbb3f70747c44a77c7bcd40155683ae19c65e1c03b4aa3499c5328201f1"
  }
 },
 "nbformat": 4,
 "nbformat_minor": 2
}