{
 "cells": [
  {
   "cell_type": "markdown",
   "source": [
    "@Author: Naziya\n",
    "\n",
    "@Date: 2021-07-26\n",
    "\n",
    "@Last Modified by: Naziya\n",
    "\n",
    "@Last Modified : 2021-07-26\n",
    "\n",
    "@Title : Program Aim is to convert a NumPy array into Python list structure.\n",
    "         print with precision 3"
   ],
   "metadata": {}
  },
  {
   "cell_type": "code",
   "execution_count": null,
   "source": [
    "import numpy as np\n",
    "from LoggerFormat import logger\n",
    "\n",
    "def list_precision_three():\n",
    "    \"\"\"\n",
    "    Description: This function is used to convert a NumPy array into Python list structure.\n",
    "                 print with precision 3\n",
    "    \"\"\"\n",
    "    try:\n",
    "        myArray = np.array([ 0.26153123, 0.52760141, 0.5718299, 0.5927067, 0.7831874, 0.69746349,\n",
    "                             0.35399976, 0.99469633, 0.0694458, 0.54711478])\n",
    "        logger.info(\"Original array: \")\n",
    "        logger.info(myArray)\n",
    "        logger.info(\"Array values with precision 3: \")\n",
    "        np.set_printoptions(precision=3,suppress=True)\n",
    "        logger.info(myArray)\n",
    "    except Exception as err:\n",
    "        logger.error(err)\n",
    "    \n",
    "if __name__ == \"__main__\":\n",
    "    list_precision_three()"
   ],
   "outputs": [],
   "metadata": {}
  }
 ],
 "metadata": {
  "orig_nbformat": 4,
  "language_info": {
   "name": "python",
   "version": "3.8.10"
  },
  "kernelspec": {
   "name": "python3",
   "display_name": "Python 3.8.10 64-bit"
  },
  "interpreter": {
   "hash": "916dbcbb3f70747c44a77c7bcd40155683ae19c65e1c03b4aa3499c5328201f1"
  }
 },
 "nbformat": 4,
 "nbformat_minor": 2
}