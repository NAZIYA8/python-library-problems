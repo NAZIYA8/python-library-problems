{
 "cells": [
  {
   "cell_type": "markdown",
   "source": [
    "@Author: Naziya\n",
    "\n",
    "@Date: 2021-07-26\n",
    "\n",
    "@Last Modified by: Naziya\n",
    "\n",
    "@Last Modified : 2021-07-26\n",
    "\n",
    "@Title : Program Aim is to remove specific elements from numpy array"
   ],
   "metadata": {}
  },
  {
   "cell_type": "code",
   "execution_count": null,
   "source": [
    "import numpy as np\n",
    "from LoggerFormat import logger\n",
    "\n",
    "def remove_elements():\n",
    "    \"\"\"\n",
    "    Description: This function is used to remove specific elements from numpy array.\n",
    "    \"\"\"\n",
    "    try:\n",
    "        myArray1 = np.array([10,20,30,40,50,60,70,80,90])\n",
    "        logger.info(\"Original array: \")\n",
    "        logger.info(myArray1)\n",
    "        index=[0,4,6]\n",
    "        logger.info(\"After deleting: \")\n",
    "        myArray2 = np.delete(myArray1,index)\n",
    "        logger.info(myArray2)\n",
    "    except Exception as err :\n",
    "        logger.error(err)\n",
    "\n",
    "if __name__ == \"__main__\":\n",
    "    remove_elements()"
   ],
   "outputs": [],
   "metadata": {}
  }
 ],
 "metadata": {
  "orig_nbformat": 4,
  "language_info": {
   "name": "python",
   "version": "3.8.10"
  },
  "kernelspec": {
   "name": "python3",
   "display_name": "Python 3.8.10 64-bit"
  },
  "interpreter": {
   "hash": "916dbcbb3f70747c44a77c7bcd40155683ae19c65e1c03b4aa3499c5328201f1"
  }
 },
 "nbformat": 4,
 "nbformat_minor": 2
}