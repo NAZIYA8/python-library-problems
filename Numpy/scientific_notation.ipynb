{
 "cells": [
  {
   "cell_type": "markdown",
   "source": [
    "@Author: Naziya\n",
    "\n",
    "@Date: 2021-07-26\n",
    "\n",
    "@Last Modified by: Naziya\n",
    "\n",
    "@Last Modified : 2021-07-26\n",
    "\n",
    "@Title : Program Aim is to suppresses the use of scientific notation for small\n",
    "         numbers in numpy array.print with precision 3"
   ],
   "metadata": {}
  },
  {
   "cell_type": "code",
   "execution_count": null,
   "source": [
    "import numpy as np\n",
    "from LoggerFormat import logger\n",
    "\n",
    "def precision_three():\n",
    "    \"\"\"\n",
    "    Description: This function is used to suppresses the use of scientific notation for small\n",
    "                 numbers in numpy array.print with precision 3\n",
    "    \"\"\"\n",
    "    try:\n",
    "        myArray = np.array([ 1.60000000e-10, 1.60000000e+00, 1.20000000e+03, 2.35000000e-01])\n",
    "        logger.info(\"Original array: \")\n",
    "        logger.info(myArray)\n",
    "        logger.info(\"Array values with precision 3: \")\n",
    "        np.set_printoptions(precision=3,suppress=True)\n",
    "        logger.info(myArray)\n",
    "    except Exception as err:\n",
    "        logger.error(err)\n",
    "    \n",
    "if __name__ == \"__main__\":\n",
    "    precision_three()"
   ],
   "outputs": [],
   "metadata": {}
  }
 ],
 "metadata": {
  "orig_nbformat": 4,
  "language_info": {
   "name": "python",
   "version": "3.8.10"
  },
  "kernelspec": {
   "name": "python3",
   "display_name": "Python 3.8.10 64-bit"
  },
  "interpreter": {
   "hash": "916dbcbb3f70747c44a77c7bcd40155683ae19c65e1c03b4aa3499c5328201f1"
  }
 },
 "nbformat": 4,
 "nbformat_minor": 2
}