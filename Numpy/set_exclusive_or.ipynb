{
 "cells": [
  {
   "cell_type": "markdown",
   "source": [
    "@Author: Naziya\n",
    "\n",
    "@Date: 2021-07-26\n",
    "\n",
    "@Last Modified by: Naziya\n",
    "\n",
    "@Last Modified : 2021-07-26\n",
    "\n",
    "@Title : Program Aim is to find the set exclusive-or.Set exclusive-or\n",
    "         will return the sorted, unique values that are in only one (not both) \n",
    "         of the input arrays.\n",
    "       "
   ],
   "metadata": {}
  },
  {
   "cell_type": "code",
   "execution_count": 1,
   "source": [
    "import numpy as np\n",
    "from LoggerFormat import logger\n",
    "\n",
    "def set_exclusive_or():\n",
    "    \"\"\"\n",
    "    Description: This function is used to find the set exclusive-or of two arrays.\n",
    "                 Set exclusive-or will return the sorted, unique values that are in \n",
    "                 only one (not both) of the input arrays.\n",
    "    \"\"\"\n",
    "    try:\n",
    "        myArray1 = np.array([ 0 ,10, 20, 40, 60, 80])\n",
    "        myArray2 = np.array([10, 30, 40, 50, 70])\n",
    "        logger.info(\"Original array1: \")\n",
    "        logger.info(myArray1)\n",
    "        logger.info(\"Original array2: \")\n",
    "        logger.info(myArray2)\n",
    "        set_exclusive_or = np.setxor1d(myArray1,myArray2)\n",
    "        logger.info(\"The set exclusive or of array1 and array2: \")\n",
    "        logger.info(set_exclusive_or)\n",
    "\n",
    "        \n",
    "    except Exception as err:\n",
    "        logger.error(err)\n",
    "        \n",
    "if __name__ == \"__main__\":\n",
    "    set_exclusive_or()\n"
   ],
   "outputs": [],
   "metadata": {}
  }
 ],
 "metadata": {
  "orig_nbformat": 4,
  "language_info": {
   "name": "python",
   "version": "3.8.10",
   "mimetype": "text/x-python",
   "codemirror_mode": {
    "name": "ipython",
    "version": 3
   },
   "pygments_lexer": "ipython3",
   "nbconvert_exporter": "python",
   "file_extension": ".py"
  },
  "kernelspec": {
   "name": "python3",
   "display_name": "Python 3.8.10 64-bit"
  },
  "interpreter": {
   "hash": "916dbcbb3f70747c44a77c7bcd40155683ae19c65e1c03b4aa3499c5328201f1"
  }
 },
 "nbformat": 4,
 "nbformat_minor": 2
}