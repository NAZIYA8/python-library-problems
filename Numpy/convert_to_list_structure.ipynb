{
 "cells": [
  {
   "cell_type": "markdown",
   "source": [
    "@Author: Naziya\n",
    "\n",
    "@Date: 2021-07-26\n",
    "\n",
    "@Last Modified by: Naziya\n",
    "\n",
    "@Last Modified : 2021-07-26\n",
    "\n",
    "@Title : Program Aim is to convert a NumPy array into Python list structure."
   ],
   "metadata": {}
  },
  {
   "cell_type": "code",
   "execution_count": 2,
   "source": [
    "import numpy as np\n",
    "from LoggerFormat import logger\n",
    "\n",
    "def convert_to_list():\n",
    "    \"\"\"\n",
    "    Description: This function is used to convert a NumPy array into Python list structure.\n",
    "    \"\"\"\n",
    "    try:\n",
    "        myArray = np.array([[0,1],[2,3],[4,5]])\n",
    "        logger.info(\"Original array: \")\n",
    "        logger.info(myArray)\n",
    "        logger.info(\"Array to python list: \")\n",
    "        logger.info(myArray.tolist())\n",
    "    except Exception as err:\n",
    "        logger.error(err)\n",
    "    \n",
    "if __name__ == \"__main__\":\n",
    "    convert_to_list()"
   ],
   "outputs": [],
   "metadata": {}
  }
 ],
 "metadata": {
  "orig_nbformat": 4,
  "language_info": {
   "name": "python",
   "version": "3.8.10"
  },
  "kernelspec": {
   "name": "python3",
   "display_name": "Python 3.8.10 64-bit"
  },
  "interpreter": {
   "hash": "916dbcbb3f70747c44a77c7bcd40155683ae19c65e1c03b4aa3499c5328201f1"
  }
 },
 "nbformat": 4,
 "nbformat_minor": 2
}