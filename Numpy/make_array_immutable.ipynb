{
 "cells": [
  {
   "cell_type": "markdown",
   "source": [
    "@Author: Naziya\n",
    "\n",
    "@Date: 2021-07-26\n",
    "\n",
    "@Last Modified by: Naziya\n",
    "\n",
    "@Last Modified : 2021-07-26\n",
    "\n",
    "@Title : Program Aim is to make an array immutable (read-only)."
   ],
   "metadata": {}
  },
  {
   "cell_type": "code",
   "execution_count": 1,
   "source": [
    "import  numpy as np\n",
    "from LoggerFormat import logger\n",
    "\n",
    "def make_immutable():\n",
    "    \"\"\"\n",
    "    Description: This function is used to make an array immutable (read-only).\n",
    "    \"\"\"\n",
    "    try:\n",
    "        myArray = np.arange(0,10)\n",
    "        logger.info(\"Original array: \")\n",
    "        logger.info(myArray)\n",
    "        myArray.flags.writeable = False\n",
    "        myArray[0] = 55\n",
    "        logger.info(myArray)\n",
    "    except Exception as err:\n",
    "        logger.error(err)\n",
    "    \n",
    "if __name__ == \"__main__\":\n",
    "    make_immutable()\n"
   ],
   "outputs": [],
   "metadata": {}
  }
 ],
 "metadata": {
  "orig_nbformat": 4,
  "language_info": {
   "name": "python",
   "version": "3.8.10",
   "mimetype": "text/x-python",
   "codemirror_mode": {
    "name": "ipython",
    "version": 3
   },
   "pygments_lexer": "ipython3",
   "nbconvert_exporter": "python",
   "file_extension": ".py"
  },
  "kernelspec": {
   "name": "python3",
   "display_name": "Python 3.8.10 64-bit"
  },
  "interpreter": {
   "hash": "916dbcbb3f70747c44a77c7bcd40155683ae19c65e1c03b4aa3499c5328201f1"
  }
 },
 "nbformat": 4,
 "nbformat_minor": 2
}