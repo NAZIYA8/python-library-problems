{
 "cells": [
  {
   "cell_type": "markdown",
   "source": [
    "@Author: Naziya\n",
    "\n",
    "@Date: 2021-07-26\n",
    "\n",
    "@Last Modified by: Naziya\n",
    "\n",
    "@Last Modified : 2021-07-26\n",
    "\n",
    "@Title : Program Aim is to create a 3x3 matrix with \n",
    "         values ranging from 2 to 10."
   ],
   "metadata": {}
  },
  {
   "cell_type": "code",
   "execution_count": 1,
   "source": [
    "import numpy as np\n",
    "from LoggerFormat import logger\n",
    "\n",
    "def create_matrix():\n",
    "    \"\"\"\n",
    "    Description: This function is used to create a 3x3 matrix with \n",
    "                 values ranging from 2 to 10.\n",
    "    \"\"\"\n",
    "    try:\n",
    "        myMatrix = np.arange(2,11).reshape(3,3)\n",
    "        logger.info(\"The Matrix is :\")\n",
    "        logger.info(myMatrix)\n",
    "    except Exception as err:\n",
    "        logger.error(err)\n",
    "\n",
    "if __name__ == \"__main__\":\n",
    "    create_matrix()"
   ],
   "outputs": [],
   "metadata": {}
  }
 ],
 "metadata": {
  "orig_nbformat": 4,
  "language_info": {
   "name": "python",
   "version": "3.8.10",
   "mimetype": "text/x-python",
   "codemirror_mode": {
    "name": "ipython",
    "version": 3
   },
   "pygments_lexer": "ipython3",
   "nbconvert_exporter": "python",
   "file_extension": ".py"
  },
  "kernelspec": {
   "name": "python3",
   "display_name": "Python 3.8.10 64-bit"
  },
  "interpreter": {
   "hash": "916dbcbb3f70747c44a77c7bcd40155683ae19c65e1c03b4aa3499c5328201f1"
  }
 },
 "nbformat": 4,
 "nbformat_minor": 2
}