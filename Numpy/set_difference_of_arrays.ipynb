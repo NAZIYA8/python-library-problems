{
 "cells": [
  {
   "cell_type": "code",
   "execution_count": null,
   "source": [],
   "outputs": [],
   "metadata": {}
  },
  {
   "cell_type": "markdown",
   "source": [
    "@Author: Naziya\n",
    "\n",
    "@Date: 2021-07-26\n",
    "\n",
    "@Last Modified by: Naziya\n",
    "\n",
    "@Last Modified : 2021-07-26\n",
    "\n",
    "@Title : Program Aim is to find the set difference of 2 arrays"
   ],
   "metadata": {}
  },
  {
   "cell_type": "code",
   "execution_count": null,
   "source": [
    "import numpy as np\n",
    "from LoggerFormat import logger\n",
    "\n",
    "def set_difference():\n",
    "    \"\"\"\n",
    "    Description: This function is used to find the set difference of 2 arrays\n",
    "    \"\"\"\n",
    "    try:\n",
    "        myArray1 = np.array([0, 10, 20, 40, 60 ,80])\n",
    "        myArray2 = np.array([[10, 30, 40, 50, 70]])\n",
    "        logger.info(\"Original array1: \")\n",
    "        logger.info(myArray1)\n",
    "        logger.info(\"Original array2: \")\n",
    "        logger.info(myArray2)\n",
    "        set_diff = np.setdiff1d(myArray1,myArray2)\n",
    "        logger.info(\"The set difference of array1 and array2: \")\n",
    "        logger.info(set_diff)\n",
    "\n",
    "        \n",
    "    except Exception as err:\n",
    "        logger.error(err)\n",
    "        \n",
    "if __name__ == \"__main__\":\n",
    "    set_difference()\n"
   ],
   "outputs": [],
   "metadata": {}
  }
 ],
 "metadata": {
  "orig_nbformat": 4,
  "language_info": {
   "name": "python"
  }
 },
 "nbformat": 4,
 "nbformat_minor": 2
}