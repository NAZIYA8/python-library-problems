{
 "cells": [
  {
   "cell_type": "markdown",
   "source": [
    "@Author: Naziya\n",
    "\n",
    "@Date: 2021-07-26\n",
    "\n",
    "@Last Modified by: Naziya\n",
    "\n",
    "@Last Modified : 2021-07-26\n",
    "\n",
    "@Title : Program Aim is to find real and imaginary parts of an array of complex\n",
    "         numbers."
   ],
   "metadata": {}
  },
  {
   "cell_type": "code",
   "execution_count": 11,
   "source": [
    "import  numpy as np\n",
    "from LoggerFormat import logger\n",
    "\n",
    "def find_real_imaginary():\n",
    "    \"\"\"\n",
    "    Description: This function is used to find the real and imaginary part\n",
    "                 of an array of complex numbers.\n",
    "    \"\"\"\n",
    "    try:\n",
    "        array1 = np.array([ 1.+0.j, 0.70710678+0.70710678j])\n",
    "        logger.info(\"Original array: \")\n",
    "        logger.info(array1)\n",
    "        real_part = array1.real\n",
    "        logger.info(\"The real part: \")\n",
    "        logger.info(real_part)\n",
    "        imag_part = array1.imag\n",
    "        logger.info(\"The imaginary part: \")\n",
    "        logger.info(imag_part)\n",
    "\n",
    "    except Exception as err:\n",
    "        logger.error(err)\n",
    "        \n",
    "if __name__ == \"__main__\":\n",
    "    find_real_imaginary()\n"
   ],
   "outputs": [],
   "metadata": {}
  }
 ],
 "metadata": {
  "orig_nbformat": 4,
  "language_info": {
   "name": "python",
   "version": "3.8.10",
   "mimetype": "text/x-python",
   "codemirror_mode": {
    "name": "ipython",
    "version": 3
   },
   "pygments_lexer": "ipython3",
   "nbconvert_exporter": "python",
   "file_extension": ".py"
  },
  "kernelspec": {
   "name": "python3",
   "display_name": "Python 3.8.10 64-bit"
  },
  "interpreter": {
   "hash": "916dbcbb3f70747c44a77c7bcd40155683ae19c65e1c03b4aa3499c5328201f1"
  }
 },
 "nbformat": 4,
 "nbformat_minor": 2
}