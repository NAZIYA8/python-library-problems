{
 "cells": [
  {
   "cell_type": "markdown",
   "source": [
    "@Author: Naziya\n",
    "\n",
    "@Date: 2021-07-26\n",
    "\n",
    "@Last Modified by: Naziya\n",
    "\n",
    "@Last Modified : 2021-07-26\n",
    "\n",
    "@Title : Program Aim is to concatenate two 2d arrays"
   ],
   "metadata": {}
  },
  {
   "cell_type": "code",
   "execution_count": null,
   "source": [
    "import numpy as np\n",
    "from LoggerFormat import logger\n",
    "\n",
    "def concatenate_2darrays():\n",
    "    \"\"\"\n",
    "    Description: This function is used to concatenate two 2d arrays\n",
    "    \"\"\"\n",
    "    try:\n",
    "        myArray1 = np.array([[0, 1, 3], [5, 7, 9]])\n",
    "        myArray2 = np.array([[0, 2, 4], [6, 8, 10]])\n",
    "        logger.info(\"concatenated array: \")\n",
    "        myArray = np.concatenate((myArray1,myArray2),axis=1)\n",
    "        logger.info(myArray)\n",
    "    except Exception as err:\n",
    "        logger.error(err)\n",
    "        \n",
    "if __name__ == \"__main__\":\n",
    "    concatenate_2darrays()"
   ],
   "outputs": [],
   "metadata": {}
  }
 ],
 "metadata": {
  "orig_nbformat": 4,
  "language_info": {
   "name": "python",
   "version": "3.8.10"
  },
  "kernelspec": {
   "name": "python3",
   "display_name": "Python 3.8.10 64-bit"
  },
  "interpreter": {
   "hash": "916dbcbb3f70747c44a77c7bcd40155683ae19c65e1c03b4aa3499c5328201f1"
  }
 },
 "nbformat": 4,
 "nbformat_minor": 2
}