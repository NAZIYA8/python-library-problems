{
 "cells": [
  {
   "cell_type": "markdown",
   "source": [
    "@Author: Naziya\n",
    "\n",
    "@Date: 2021-07-26\n",
    "\n",
    "@Last Modified by: Naziya\n",
    "\n",
    "@Last Modified : 2021-07-26\n",
    "\n",
    "@Title : Program Aim is to convert a list to one dimensional array."
   ],
   "metadata": {}
  },
  {
   "cell_type": "code",
   "execution_count": 17,
   "source": [
    "\n",
    "import numpy as np\n",
    "from LoggerFormat import logger\n",
    "\n",
    "def toOneDimensional():\n",
    "    \"\"\"\n",
    "    Description: This function is used to convert a list to one dimensional\n",
    "                 numpy array. \n",
    "    \"\"\"\n",
    "    try:\n",
    "        myList = [12.23, 13.32, 100, 36.32]\n",
    "        logger.info(\"Original List : \")\n",
    "        logger.info(myList)\n",
    "        logger.info(type(myList))\n",
    "        oneDArray = np.array(myList)\n",
    "        logger.info(\"One dimensional array is :\")\n",
    "        logger.info(oneDArray)\n",
    "        logger.info(type(oneDArray))\n",
    "    except Exception as err:\n",
    "        logger.error(err)\n",
    "        \n",
    "if __name__ == \"__main__\":\n",
    "    toOneDimensional()"
   ],
   "outputs": [],
   "metadata": {}
  }
 ],
 "metadata": {
  "orig_nbformat": 4,
  "language_info": {
   "name": "python",
   "version": "3.8.10",
   "mimetype": "text/x-python",
   "codemirror_mode": {
    "name": "ipython",
    "version": 3
   },
   "pygments_lexer": "ipython3",
   "nbconvert_exporter": "python",
   "file_extension": ".py"
  },
  "kernelspec": {
   "name": "python3",
   "display_name": "Python 3.8.10 64-bit"
  },
  "interpreter": {
   "hash": "916dbcbb3f70747c44a77c7bcd40155683ae19c65e1c03b4aa3499c5328201f1"
  }
 },
 "nbformat": 4,
 "nbformat_minor": 2
}