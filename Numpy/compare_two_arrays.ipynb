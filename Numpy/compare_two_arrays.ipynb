{
 "cells": [
  {
   "cell_type": "markdown",
   "source": [
    "@Author: Naziya\n",
    "\n",
    "@Date: 2021-07-26\n",
    "\n",
    "@Last Modified by: Naziya\n",
    "\n",
    "@Last Modified : 2021-07-26\n",
    "\n",
    "@Title : Program Aim is to compare two arrays"
   ],
   "metadata": {}
  },
  {
   "cell_type": "code",
   "execution_count": null,
   "source": [
    "import numpy as np\n",
    "from LoggerFormat import logger\n",
    "\n",
    "def compare_arrays():\n",
    "    \"\"\"\n",
    "    Description: This function is used to compare two arrays\n",
    "    \"\"\"\n",
    "    try:\n",
    "        myArray1 = np.array([1,2])\n",
    "        myArray2 = np.array([4,5])\n",
    "        logger.info(\"Original array1: \")\n",
    "        logger.info(myArray1)\n",
    "        logger.info(\"Original array2: \")\n",
    "        logger.info(myArray2)\n",
    "        logger.info(myArray1>myArray2)\n",
    "        logger.info(myArray1>=myArray2)\n",
    "        logger.info(myArray1<myArray2)\n",
    "        logger.info(myArray1<=myArray2)\n",
    "\n",
    "        \n",
    "    except Exception as err:\n",
    "        logger.error(err)\n",
    "        \n",
    "if __name__ == \"__main__\":\n",
    "    compare_arrays()\n"
   ],
   "outputs": [],
   "metadata": {}
  }
 ],
 "metadata": {
  "orig_nbformat": 4,
  "language_info": {
   "name": "python",
   "version": "3.8.10"
  },
  "kernelspec": {
   "name": "python3",
   "display_name": "Python 3.8.10 64-bit"
  },
  "interpreter": {
   "hash": "916dbcbb3f70747c44a77c7bcd40155683ae19c65e1c03b4aa3499c5328201f1"
  }
 },
 "nbformat": 4,
 "nbformat_minor": 2
}