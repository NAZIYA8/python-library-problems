{
 "cells": [
  {
   "cell_type": "markdown",
   "source": [
    "@Author: Naziya\n",
    "\n",
    "@Date: 2021-07-26\n",
    "\n",
    "@Last Modified by: Naziya\n",
    "\n",
    "@Last Modified : 2021-07-26\n",
    "\n",
    "@Title : Program Aim is to create a 3-D array with ones on a diagonal and zeros\n",
    "         elsewhere."
   ],
   "metadata": {}
  },
  {
   "cell_type": "code",
   "execution_count": null,
   "source": [
    "import numpy as np\n",
    "from LoggerFormat import logger\n",
    "\n",
    "def create_3d_array():\n",
    "    \"\"\"\n",
    "    Description: This function is used to create a 3-D array with ones on a diagonal and zeros\n",
    "                 elsewhere.\n",
    "    \"\"\"\n",
    "    try:\n",
    "        myArray = np.identity(3)\n",
    "        logger.info(\"Array with ones on a diagonal and zeros elsewhere: \")\n",
    "        logger.info(myArray)\n",
    "    except Exception as err:\n",
    "        logger.error(err)\n",
    "        \n",
    "if __name__ == \"__main__\":\n",
    "    create_3d_array()\n"
   ],
   "outputs": [],
   "metadata": {}
  }
 ],
 "metadata": {
  "orig_nbformat": 4,
  "language_info": {
   "name": "python",
   "version": "3.8.10"
  },
  "kernelspec": {
   "name": "python3",
   "display_name": "Python 3.8.10 64-bit"
  },
  "interpreter": {
   "hash": "916dbcbb3f70747c44a77c7bcd40155683ae19c65e1c03b4aa3499c5328201f1"
  }
 },
 "nbformat": 4,
 "nbformat_minor": 2
}