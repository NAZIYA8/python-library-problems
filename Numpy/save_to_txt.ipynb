{
 "cells": [
  {
   "cell_type": "markdown",
   "source": [
    "@Author: Naziya\n",
    "\n",
    "@Date: 2021-07-26\n",
    "\n",
    "@Last Modified by: Naziya\n",
    "\n",
    "@Last Modified : 2021-07-26\n",
    "\n",
    "@Title : Program Aim is to save a NumPy array to a text file."
   ],
   "metadata": {}
  },
  {
   "cell_type": "code",
   "execution_count": 1,
   "source": [
    "import numpy as np\n",
    "from LoggerFormat import logger\n",
    "\n",
    "def save_to_txt():\n",
    "    \"\"\"\n",
    "    Description: This function is used to save a NumPy array to a text file.\n",
    "    \"\"\"\n",
    "    try:\n",
    "        myArray = np.array([[1,2,3],[4,5,6],[7,8,9]])\n",
    "        logger.info(\"Original array: \")\n",
    "        logger.info(myArray)\n",
    "\n",
    "        file = open(\"file1.txt\",\"w+\")\n",
    "        content = str(myArray)\n",
    "        file.write(content)\n",
    "        file.close()\n",
    "    except FileNotFoundError as err:\n",
    "        logger.error(err)\n",
    "    except Exception as err:\n",
    "        logger.error(err)\n",
    "    \n",
    "if __name__ == \"__main__\":\n",
    "    save_to_txt()"
   ],
   "outputs": [],
   "metadata": {}
  }
 ],
 "metadata": {
  "orig_nbformat": 4,
  "language_info": {
   "name": "python",
   "version": "3.8.10",
   "mimetype": "text/x-python",
   "codemirror_mode": {
    "name": "ipython",
    "version": 3
   },
   "pygments_lexer": "ipython3",
   "nbconvert_exporter": "python",
   "file_extension": ".py"
  },
  "kernelspec": {
   "name": "python3",
   "display_name": "Python 3.8.10 64-bit"
  },
  "interpreter": {
   "hash": "916dbcbb3f70747c44a77c7bcd40155683ae19c65e1c03b4aa3499c5328201f1"
  }
 },
 "nbformat": 4,
 "nbformat_minor": 2
}