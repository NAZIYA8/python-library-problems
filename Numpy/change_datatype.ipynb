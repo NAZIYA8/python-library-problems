{
 "cells": [
  {
   "cell_type": "markdown",
   "source": [
    "@Author: Naziya\n",
    "\n",
    "@Date: 2021-07-26\n",
    "\n",
    "@Last Modified by: Naziya\n",
    "\n",
    "@Last Modified : 2021-07-26\n",
    "\n",
    "@Title : Program Aim is to change data type of array"
   ],
   "metadata": {}
  },
  {
   "cell_type": "code",
   "execution_count": 7,
   "source": [
    "import numpy as np\n",
    "from LoggerFormat import logger\n",
    "\n",
    "def change_datatype():\n",
    "    \"\"\"\n",
    "    Description: This function is used to change datatype array\n",
    "    \"\"\"\n",
    "    try:\n",
    "        myArray1 = np.array([[10, 20, 30],[20, 40, 50]],dtype='int32')\n",
    "        logger.info(\"Array before changing datatype: \")\n",
    "        logger.info(myArray1.dtype)\n",
    "        myArray2 = myArray1.astype('float64')\n",
    "        logger.info(\"Array after changing datatype: \")\n",
    "        logger.info(myArray2.dtype)\n",
    "    except Exception as err:\n",
    "        logger.error(err)\n",
    "        \n",
    "if __name__ == \"__main__\":\n",
    "    change_datatype()\n",
    "\n"
   ],
   "outputs": [],
   "metadata": {}
  }
 ],
 "metadata": {
  "orig_nbformat": 4,
  "language_info": {
   "name": "python",
   "version": "3.8.10"
  },
  "kernelspec": {
   "name": "python3",
   "display_name": "Python 3.8.10 64-bit"
  },
  "interpreter": {
   "hash": "916dbcbb3f70747c44a77c7bcd40155683ae19c65e1c03b4aa3499c5328201f1"
  }
 },
 "nbformat": 4,
 "nbformat_minor": 2
}